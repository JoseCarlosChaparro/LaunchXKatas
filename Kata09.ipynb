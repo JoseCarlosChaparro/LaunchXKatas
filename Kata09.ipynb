{
 "cells": [
  {
   "cell_type": "markdown",
   "metadata": {},
   "source": [
    "# Ejercicio: Uso de funciones en Python\n",
    "### Ejercicio 1: Trabajar con argumentos en funciones\n",
    "En este ejercicio, construirás un informe de combustible que requiere información de varias ubicaciones de combustible en todo el cohete.\n",
    "\n",
    "Comienza por crear una función que necesite tres lecturas de combustible y devuelva un informe:\n"
   ]
  },
  {
   "cell_type": "code",
   "execution_count": 8,
   "metadata": {},
   "outputs": [],
   "source": [
    "def combustiblePromedio(tanqueUno, tanqueDos, tanqueTres):\n",
    "    combustibleTotal = tanqueUno + tanqueDos + tanqueTres\n",
    "    promedio = combustibleTotal/3\n",
    "    return f\"\"\"Reporte de combustible\n",
    "    Tanque uno: {tanqueUno}%\n",
    "    Tanque dos: {tanqueDos}%\n",
    "    Tanque tres: {tanqueTres}%\n",
    "    Combustible Promedio: {promedio}%\n",
    "            \"\"\""
   ]
  },
  {
   "cell_type": "markdown",
   "metadata": {},
   "source": [
    "Ahora que hemos definido la función de informes, vamos a comprobarlo. Para esta misión, los tanques no están llenos:"
   ]
  },
  {
   "cell_type": "code",
   "execution_count": 9,
   "metadata": {},
   "outputs": [
    {
     "name": "stdout",
     "output_type": "stream",
     "text": [
      "Reporte de combustible\n",
      "    Tanque uno: 50%\n",
      "    Tanque dos: 40%\n",
      "    Tanque tres: 70%\n",
      "    Combustible Promedio: 53.333333333333336%\n",
      "            \n"
     ]
    }
   ],
   "source": [
    "print(combustiblePromedio(50,40,70))"
   ]
  },
  {
   "cell_type": "markdown",
   "metadata": {},
   "source": [
    "En lugar de simplemente crear el informe, la función también está calculando el promedio. Mejora la legibilidad extrayendo el cálculo promedio de la función en una nueva función para que el promedio se pueda hacer de forma independiente:"
   ]
  },
  {
   "cell_type": "code",
   "execution_count": 10,
   "metadata": {},
   "outputs": [],
   "source": [
    "# Función promedio \n",
    "def promedio(tanques):\n",
    "    total = sum(tanques)\n",
    "    promedioCombustible = total / len(tanques)\n",
    "    return promedioCombustible"
   ]
  },
  {
   "cell_type": "markdown",
   "metadata": {},
   "source": [
    "Ahora actualiza la función de informes para llamando a la nueva función del promedio:"
   ]
  },
  {
   "cell_type": "code",
   "execution_count": 11,
   "metadata": {},
   "outputs": [
    {
     "name": "stdout",
     "output_type": "stream",
     "text": [
      "Reporte de combustible\n",
      "    Tanque uno: 66%\n",
      "    Tanque dos: 74%\n",
      "    Tanque tres: 88%\n",
      "    Combustible Promedio: 76.0%\n",
      "            \n"
     ]
    }
   ],
   "source": [
    "def combustiblePromedio(tanqueUno, tanqueDos, tanqueTres):\n",
    "    return f\"\"\"Reporte de combustible\n",
    "    Tanque uno: {tanqueUno}%\n",
    "    Tanque dos: {tanqueDos}%\n",
    "    Tanque tres: {tanqueTres}%\n",
    "    Combustible Promedio: {promedio([tanqueUno, tanqueDos, tanqueTres])}%\n",
    "            \"\"\"\n",
    "\n",
    "print(combustiblePromedio(66,74,88))"
   ]
  },
  {
   "cell_type": "markdown",
   "metadata": {},
   "source": [
    "# Ejercicio 2: Trabajo con argumentos de palabra clave\n",
    "### Ejercicio : Trabajar con argumentos de palabras clave en funciones\n",
    "En este ejercicio, construirás un informe de cohete que requiere varias piezas de información, como el tiempo hasta el destino, el combustible a la izquierda y el nombre del destino. Comienza por crear una función que creará un informe preciso de la misión:"
   ]
  },
  {
   "cell_type": "code",
   "execution_count": 12,
   "metadata": {},
   "outputs": [
    {
     "name": "stdout",
     "output_type": "stream",
     "text": [
      "\n",
      "            Mision con destino a: Estación espacial\n",
      "            Tiempo de vuelo: 71 min\n",
      "            Combustible total: 680000\n",
      "            \n"
     ]
    }
   ],
   "source": [
    "# Función con un informe preciso de la misión. Considera hora de prelanzamiento, tiempo de vuelo, destino, tanque externo y tanque interno\n",
    "def informeMision(horaPrelanzamiento, tiempoVuelo, destino, tanqueExterno, tanqueInterno):\n",
    "    return f\"\"\"\n",
    "            Mision con destino a: {destino}\n",
    "            Tiempo de vuelo: {horaPrelanzamiento + tiempoVuelo} min\n",
    "            Combustible total: {tanqueInterno + tanqueExterno}\n",
    "            \"\"\"\n",
    "\n",
    "print(informeMision(15, 56, \"Estación espacial\", 250000, 430000 ))\n"
   ]
  },
  {
   "cell_type": "markdown",
   "metadata": {},
   "source": [
    "La función es problemática porque no se puede adaptar para minutos adicionales o tanques adicionales de combustible. Hazlo más flexible permitiendo cualquier número de pasos basados en el tiempo y cualquier número de tanques. En lugar de usar *args y **kwargs, aprovecha el hecho de que puedes usar cualquier nombre que desees. Asegurate que la función sea más legible mediante el uso de nombres de variables que están asociados con las entradas, como *minutes y **fuel_reservoirs:"
   ]
  },
  {
   "cell_type": "code",
   "execution_count": 13,
   "metadata": {},
   "outputs": [
    {
     "name": "stdout",
     "output_type": "stream",
     "text": [
      "\n",
      "            Mision con destino a: Estación espacial\n",
      "            Tiempo de vuelo: 162 min\n",
      "            Combustible total: 692000\n",
      "            \n"
     ]
    }
   ],
   "source": [
    "# Escribe tu nueva función de reporte considerando lo anterior\n",
    "def informeMision( destino, *minutos, **reservasCombustible):\n",
    "    return f\"\"\"\n",
    "            Mision con destino a: {destino}\n",
    "            Tiempo de vuelo: {sum(minutos)} min\n",
    "            Combustible total: {sum(reservasCombustible.values())}\n",
    "            \"\"\"\n",
    "\n",
    "print( informeMision(  \"Estación espacial\", 14,52,62,34 , TanqueUno=250000, TanqueDos = 430000 , TanqueTres = 12000  ) )\n"
   ]
  },
  {
   "cell_type": "markdown",
   "metadata": {},
   "source": [
    "Debido a que el combustible que queda en los tanques es específico de cada tanque, actualiza la función para usar el nombre de cada tanque en el informe:"
   ]
  },
  {
   "cell_type": "code",
   "execution_count": 14,
   "metadata": {},
   "outputs": [
    {
     "name": "stdout",
     "output_type": "stream",
     "text": [
      "\n",
      "Mision con destino a: Estación espacial\n",
      "Tiempo de vuelo: 162 min\n",
      "Combustible total: 692000\n",
      "TanqueUno tanque : 250000 galones restantes\n",
      "TanqueDos tanque : 430000 galones restantes\n",
      "TanqueTres tanque : 12000 galones restantes\n",
      "\n"
     ]
    }
   ],
   "source": [
    "# Escribe tu nueva función\n",
    "def informeMision( destino, *minutos, **reservasCombustible):\n",
    "    informe = f\"\"\"\n",
    "Mision con destino a: {destino}\n",
    "Tiempo de vuelo: {sum(minutos)} min\n",
    "Combustible total: {sum(reservasCombustible.values())}\n",
    "\"\"\"\n",
    "    for tanque, galones in reservasCombustible.items():\n",
    "        informe += f\"{tanque} tanque : {galones} galones restantes\\n\"\n",
    "    return informe \n",
    "\n",
    "print( informeMision(  \"Estación espacial\", 14,52,62,34 , TanqueUno=250000, TanqueDos = 430000 , TanqueTres = 12000  ) )\n"
   ]
  }
 ],
 "metadata": {
  "interpreter": {
   "hash": "581b4c4cd8d291bc28c078e839655afe8f5ad8bc401943f70865677ea23feec2"
  },
  "kernelspec": {
   "display_name": "Python 3.9.10 64-bit (windows store)",
   "language": "python",
   "name": "python3"
  },
  "language_info": {
   "codemirror_mode": {
    "name": "ipython",
    "version": 3
   },
   "file_extension": ".py",
   "mimetype": "text/x-python",
   "name": "python",
   "nbconvert_exporter": "python",
   "pygments_lexer": "ipython3",
   "version": "3.9.10"
  },
  "orig_nbformat": 4
 },
 "nbformat": 4,
 "nbformat_minor": 2
}
